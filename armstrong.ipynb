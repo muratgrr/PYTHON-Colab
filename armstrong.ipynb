{
  "nbformat": 4,
  "nbformat_minor": 0,
  "metadata": {
    "colab": {
      "name": "armstrong.ipynb",
      "provenance": [],
      "collapsed_sections": [],
      "authorship_tag": "ABX9TyMaRU/SSZoqJSbE31u3+1OZ",
      "include_colab_link": true
    },
    "kernelspec": {
      "name": "python3",
      "display_name": "Python 3"
    },
    "language_info": {
      "name": "python"
    }
  },
  "cells": [
    {
      "cell_type": "markdown",
      "metadata": {
        "id": "view-in-github",
        "colab_type": "text"
      },
      "source": [
        "<a href=\"https://colab.research.google.com/github/muratgrr/PYTHON-Colab/blob/master/armstrong.ipynb\" target=\"_parent\"><img src=\"https://colab.research.google.com/assets/colab-badge.svg\" alt=\"Open In Colab\"/></a>"
      ]
    },
    {
      "cell_type": "code",
      "source": [
        "  # try: kullanılmadan çözümü.\n",
        "while True:\n",
        "    numbers = input(\"Enter a positive integer:\").strip()\n",
        "    number_input = list(\"0123456789\")\n",
        "    if (set(numbers) - set(number_input)) != set():\n",
        "        print(\"you can only enter positive integers\")\n",
        "    elif set(numbers) == set():\n",
        "        print(\"please do not leave blank\")\n",
        "    elif int(numbers) <= 1:\n",
        "        print(\"Enter positive integer greater than 1\")\n",
        "    else:    \n",
        "        liste = []\n",
        "        for i in range(len(numbers)):\n",
        "            b = int(numbers[i])**len(numbers)\n",
        "            liste.append(b)\n",
        "        if sum(liste) == int(numbers):\n",
        "            print(numbers, \"The integer you entered, Armstrong\")\n",
        "            break\n",
        "        else:\n",
        "            print(numbers, \"The integer you entered is not Armstrong\")\n",
        "            break"
      ],
      "metadata": {
        "id": "B6XykZU3q_U9",
        "colab": {
          "base_uri": "https://localhost:8080/"
        },
        "outputId": "69c5774c-d879-42e0-d043-f5f390ce3723"
      },
      "execution_count": null,
      "outputs": [
        {
          "output_type": "stream",
          "name": "stdout",
          "text": [
            "Enter a positive integer:351\n",
            "351 The integer you entered is not Armstrong\n"
          ]
        }
      ]
    },
    {
      "cell_type": "markdown",
      "source": [
        "hocanın çözümü"
      ],
      "metadata": {
        "id": "HiPQsA2Pw3tt"
      }
    },
    {
      "cell_type": "code",
      "source": [
        "while True :\n",
        "    \n",
        "    number = input(\"Enter a positive integer number :\")\n",
        "    digits = len(number)\n",
        "    summ = 0\n",
        "    \n",
        "    if not number.isdigit() :\n",
        "        \n",
        "        print(number, \" is invalid entry. Please enter valid input.\")\n",
        "        \n",
        "    elif int(number) >= 0 :\n",
        "        \n",
        "        for i in range(digits) :\n",
        "            \n",
        "            summ = summ + int(number[i]) ** digits\n",
        "            \n",
        "        if summ == int(number) :\n",
        "            print(number, \" is an Armstrong Number.\")\n",
        "            break\n",
        "        else :\n",
        "            print(number, \" is not an Armstrong Number.\")\n",
        "            break"
      ],
      "metadata": {
        "id": "YSnGIFlUnMGe",
        "colab": {
          "base_uri": "https://localhost:8080/"
        },
        "outputId": "4ec15399-d116-43d4-8b16-62ad31354018"
      },
      "execution_count": null,
      "outputs": [
        {
          "output_type": "stream",
          "name": "stdout",
          "text": [
            "Enter a positive integer number :251\n",
            "251  is not an Armstrong Number.\n"
          ]
        }
      ]
    },
    {
      "cell_type": "markdown",
      "source": [
        "hocanın çözümü alternatif breaksız"
      ],
      "metadata": {
        "id": "SCYottkQwxO9"
      }
    },
    {
      "cell_type": "code",
      "source": [
        "sayı = input('Bir sayı giriniz: ')\n",
        "while not sayı.isdigit():\n",
        "    sayı = input('Yanlış giriş yaptınız. Bir sayı giriniz: ')\n",
        "us = len(sayı)\n",
        "toplam = 0\n",
        "for i in range(len(sayı)):\n",
        "    toplam += int(sayı[i]) ** us\n",
        "if toplam == int(sayı):\n",
        "    print('Bu bir amstrong sayıdır!')\n",
        "else:\n",
        "    print('Bu bir amstrong sayı değildir!')"
      ],
      "metadata": {
        "id": "2hwUUsVGw2F3"
      },
      "execution_count": null,
      "outputs": []
    }
  ]
}